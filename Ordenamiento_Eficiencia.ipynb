{
 "cells": [
  {
   "cell_type": "markdown",
   "id": "c77031b5-93b2-42a6-be8d-71bdecd49e0e",
   "metadata": {},
   "source": [
    "# Título Grande\r\n",
    "## Subtítulo\r\n",
    "Texto normal con **negrita** y *cursiva*.\r\n",
    "- Lista de elementos:\r\n",
    "  - Elemento 1\r\n",
    "  - Eleme\n",
    "\n",
    "<div align=\"center\">\r\n",
    "    <a href=\"https://github.com/carlosalvarezh\">\r\n",
    "        <img src=\"https://img.shields.io/badge/github-%23121011.svg?style=plastic&logo=github&logoColor=white\" alt=\"GitHub Badge\">\r\n",
    "    </a>\r\n",
    "    <a href=\"https://colab.research.google.com/github/carlosalvarezh/EstructuraDatosAlgoritmos1/blob/main/S03_EDLineales_Arrays.ipynb\">\r\n",
    "        <img src=\"https://colab.research.google.com/assets/colab-badge.svg\" alt=\"Open in Colab\">\r\n",
    "    </a>\r",
    "Arrays.ipynb)\n",
    "<table>\n",
    " <tr align=left><td><img align=left src=\"https://github.com/carlosalvarezh/Curso_CEC_EAFIT/blob/main/images/CCLogoColorPop1.gif?raw=true\" width=\"25\">\n",
    " <td>Text provided under a Creative Commons Attribution license, CC-BY. All code is made available under the FSF-approved MIT license.(c)</td>\n",
    "</table>to 2\r\n"
   ]
  },
  {
   "cell_type": "code",
   "execution_count": null,
   "id": "053affeb-64a1-48a4-bd24-64673f88a84b",
   "metadata": {},
   "outputs": [],
   "source": []
  },
  {
   "cell_type": "markdown",
   "id": "4da0d186-0716-4c01-ae99-e1233d228d90",
   "metadata": {},
   "source": []
  },
  {
   "cell_type": "code",
   "execution_count": null,
   "id": "e1cde598-162e-4108-b2b3-fcfa83f6a757",
   "metadata": {},
   "outputs": [],
   "source": []
  },
  {
   "cell_type": "code",
   "execution_count": null,
   "id": "dbd9731f-7a76-410f-a189-97b5745cec93",
   "metadata": {},
   "outputs": [],
   "source": []
  }
 ],
 "metadata": {
  "kernelspec": {
   "display_name": "Python 3 (ipykernel)",
   "language": "python",
   "name": "python3"
  },
  "language_info": {
   "codemirror_mode": {
    "name": "ipython",
    "version": 3
   },
   "file_extension": ".py",
   "mimetype": "text/x-python",
   "name": "python",
   "nbconvert_exporter": "python",
   "pygments_lexer": "ipython3",
   "version": "3.12.4"
  }
 },
 "nbformat": 4,
 "nbformat_minor": 5
}
